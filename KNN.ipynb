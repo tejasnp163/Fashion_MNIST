{
 "cells": [
  {
   "cell_type": "code",
   "execution_count": 3,
   "metadata": {},
   "outputs": [],
   "source": [
    "import pandas as pd\n",
    "import numpy as np\n",
    "import matplotlib.pyplot as plt\n",
    "from sklearn.model_selection import train_test_split\n",
    "from sklearn.preprocessing import StandardScaler\n",
    "from sklearn.decomposition import PCA\n",
    "from sklearn.neighbors import KNeighborsClassifier\n",
    "import time"
   ]
  },
  {
   "cell_type": "code",
   "execution_count": 4,
   "metadata": {},
   "outputs": [],
   "source": [
    "#Preprocessing the Data\n",
    "train = pd.read_csv('train.csv')\n",
    "test = pd.read_csv('testX.csv')\n",
    "\n",
    "# Remove Id and Label columns from the training data\n",
    "train_x = train.drop(['Id', 'Label'], axis = 1)\n",
    "\n",
    "# Take Label column as target variable\n",
    "train_y = train['Label']\n",
    "\n",
    "# Remove Id column from the test data\n",
    "test = test.drop('Id', axis = 1)\n",
    "\n",
    "# Spilt the data into 90% training and 10% validation data\n",
    "X_train, X_val, y_train, y_val = train_test_split(train_x, train_y, test_size=0.1, random_state=42)\n",
    "\n",
    "# Transform the data\n",
    "scalar = StandardScaler(with_std=False)\n",
    "scalar.fit(X_train)\n",
    "train_scaled = scalar.transform(X_train)\n",
    "val_scaled = scalar.transform(X_val)\n",
    "test_scaled = scalar.transform(test)"
   ]
  },
  {
   "cell_type": "code",
   "execution_count": 5,
   "metadata": {},
   "outputs": [],
   "source": [
    "#Normalizing the Data\n",
    "from sklearn.metrics import accuracy_score\n",
    "pca = PCA()\n",
    "pca.fit(train_scaled)\n",
    "train_x_transformed  = pca.transform(train_scaled)\n",
    "val_x_transformed = pca.transform(val_scaled)\n",
    "test_transformed = pca.transform(test_scaled)"
   ]
  },
  {
   "cell_type": "code",
   "execution_count": 9,
   "metadata": {},
   "outputs": [
    {
     "name": "stdout",
     "output_type": "stream",
     "text": [
      "83\n",
      "Variance explained by 85 components: 90.2344871977032\n"
     ]
    },
    {
     "data": {
      "image/png": "[encoded data removed]",
      "text/plain": [
       "<Figure size 792x432 with 1 Axes>"
      ]
     },
     "metadata": {
      "needs_background": "light"
     },
     "output_type": "display_data"
    }
   ],
   "source": [
    "variance = pca.explained_variance_ratio_.cumsum()\n",
    "for i in range(0,len(variance)):\n",
    "  if(variance[i] > 0.90):\n",
    "    print(i)\n",
    "    break;\n",
    "\n",
    "print('Variance explained by 85 components:', variance[85]*100)\n",
    "\n",
    "plt.figure(figsize = (11,6))\n",
    "plt.plot(np.arange(0, 784), variance*100)\n",
    "plt.plot(85, variance[85]*100, 'ro', ms = 15)\n",
    "plt.xlabel('number of components', fontsize = 15)\n",
    "plt.ylabel('cumulative explained variance', fontsize = 15)\n",
    "plt.title('Scree Plot', fontsize = 15)\n",
    "plt.grid(True)"
   ]
  },
  {
   "cell_type": "code",
   "execution_count": 10,
   "metadata": {},
   "outputs": [
    {
     "name": "stdout",
     "output_type": "stream",
     "text": [
      "Accuracy:  [85.41666666666666, 85.38333333333334, 85.31666666666666, 85.0, 84.75, 84.5, 84.55, 84.38333333333333, 84.28333333333333, 83.88333333333333]\n",
      "Time:  [1.8680987358093262, 1.8769826889038086, 1.9078962802886963, 1.5987629890441895, 1.6126763820648193, 1.6047091484069824, 1.6106939315795898, 1.6465981006622314, 1.611711025238037, 1.8520114421844482]\n"
     ]
    }
   ],
   "source": [
    "# Check for number of neighbour\n",
    "nbr = [10,20,30,40,50,60,70,80,90,100]\n",
    "acc1 = []\n",
    "time1 = []\n",
    "for i in nbr:\n",
    "    neigh = KNeighborsClassifier(n_neighbors=i)\n",
    "    start1 = time.time()\n",
    "    neigh.fit(train_x_transformed[:,:85], y_train)\n",
    "    stop1 = time.time()\n",
    "    y_pred = neigh.predict(val_x_transformed[:,:85])\n",
    "    accuracy = accuracy_score(y_val, y_pred)*100\n",
    "    acc1.append(accuracy)\n",
    "    time1.append(stop1-start1)\n",
    "print(\"Accuracy: \",acc1)\n",
    "print(\"Time: \", time1)"
   ]
  },
  {
   "cell_type": "code",
   "execution_count": 11,
   "metadata": {},
   "outputs": [
    {
     "name": "stdout",
     "output_type": "stream",
     "text": [
      "Accuracy:  [82.81666666666668, 80.9, 84.46666666666667, 83.85000000000001, 85.55, 84.91666666666666, 85.71666666666667, 85.56666666666666, 86.0, 85.41666666666666]\n",
      "Time:  [2.012648344039917, 1.7134194374084473, 1.5907480716705322, 1.5857610702514648, 1.5957343578338623, 1.635655164718628, 1.6037392616271973, 1.607729196548462, 1.622661828994751, 1.6017177104949951]\n"
     ]
    }
   ],
   "source": [
    "from sklearn.neighbors import KNeighborsClassifier\n",
    "nbr = [1,2,3,4,5,6,7,8,9,10]\n",
    "acc2 = []\n",
    "time2 = []\n",
    "for i in nbr:\n",
    "    neigh = KNeighborsClassifier(n_neighbors=i)\n",
    "    start2 = time.time()\n",
    "    neigh.fit(train_x_transformed[:,:85], y_train)\n",
    "    stop2 = time.time()\n",
    "    y_pred = neigh.predict(val_x_transformed[:,:85])\n",
    "    accuracy = accuracy_score(y_val, y_pred)*100\n",
    "    acc2.append(accuracy)\n",
    "    time2.append(stop2-start2)\n",
    "print(\"Accuracy: \", acc2)\n",
    "print(\"Time: \", time2)"
   ]
  },
  {
   "cell_type": "code",
   "execution_count": 13,
   "metadata": {},
   "outputs": [
    {
     "name": "stdout",
     "output_type": "stream",
     "text": [
      "Accuracy:  [85.93333333333332, 85.46666666666667, 85.91666666666666, 85.38333333333334, 85.7, 85.31666666666666, 85.6, 85.5, 85.68333333333334, 85.38333333333334]\n",
      "Time:  [1.7293498516082764, 2.0465657711029053, 1.6864640712738037, 1.622661828994751, 1.6865181922912598, 1.5986993312835693, 2.122333288192749, 2.254971504211426, 1.6087324619293213, 1.5927684307098389]\n"
     ]
    }
   ],
   "source": [
    "from sklearn.neighbors import KNeighborsClassifier\n",
    "nbr = [11,12,13,14,15,16,17,18,19,20]\n",
    "acc3 = []\n",
    "time3 = []\n",
    "for i in nbr:\n",
    "    neigh = KNeighborsClassifier(n_neighbors=i)\n",
    "    start3 = time.time()\n",
    "    neigh.fit(train_x_transformed[:,:85], y_train)\n",
    "    stop3 = time.time()\n",
    "    y_pred = neigh.predict(val_x_transformed[:,:85])\n",
    "    accuracy = accuracy_score(y_val, y_pred)*100\n",
    "    acc3.append(accuracy)\n",
    "    time3.append(stop3-start3)\n",
    "print(\"Accuracy: \",acc3)\n",
    "print(\"Time: \", time3)"
   ]
  },
  {
   "cell_type": "code",
   "execution_count": 14,
   "metadata": {},
   "outputs": [
    {
     "name": "stdout",
     "output_type": "stream",
     "text": [
      "Accuracy is  86.0\n",
      "Training time is  1.6575927734375\n",
      "Testing time is  11.023545026779175\n"
     ]
    }
   ],
   "source": [
    "from sklearn.neighbors import KNeighborsClassifier\n",
    "import time\n",
    "\n",
    "neigh = KNeighborsClassifier(n_neighbors=9)\n",
    "start_train = time.time()\n",
    "neigh.fit(train_x_transformed[:,:85], y_train)\n",
    "stop_train = time.time()\n",
    "\n",
    "start_test = time.time()\n",
    "y_pred = neigh.predict(val_x_transformed[:,:85])\n",
    "stop_test = time.time()\n",
    "\n",
    "acc4 = accuracy_score(y_val, y_pred)*100\n",
    "print(\"Accuracy is \",acc4)\n",
    "print(\"Training time is \", stop_train-start_train)\n",
    "print(\"Testing time is \", stop_test-start_test)"
   ]
  },
  {
   "cell_type": "code",
   "execution_count": null,
   "metadata": {},
   "outputs": [],
   "source": []
  }
 ],
 "metadata": {
  "kernelspec": {
   "display_name": "Python 3",
   "language": "python",
   "name": "python3"
  },
  "language_info": {
   "codemirror_mode": {
    "name": "ipython",
    "version": 3
   },
   "file_extension": ".py",
   "mimetype": "text/x-python",
   "name": "python",
   "nbconvert_exporter": "python",
   "pygments_lexer": "ipython3",
   "version": "3.7.3"
  }
 },
 "nbformat": 4,
 "nbformat_minor": 4
}
